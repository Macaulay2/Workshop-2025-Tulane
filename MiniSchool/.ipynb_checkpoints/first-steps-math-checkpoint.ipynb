{
 "cells": [
  {
   "cell_type": "markdown",
   "id": "899dfaa4-c5cc-4486-9fc4-9d2515b8eae2",
   "metadata": {},
   "source": [
    "In this session we will use Macaulay2 to investigate some behavior of a class of ideals."
   ]
  },
  {
   "cell_type": "markdown",
   "id": "2f153624-4e40-4155-8b04-601a69426dab",
   "metadata": {},
   "source": [
    "# First steps: a homogeneous example ideal\n",
    "\n",
    "Let's first take a homogeneous ideal and get the most common information about it.\n",
    "\n",
    "Here we do this with the first key example in algebraic geometry: the ideal of the twised cubic curve!  \n",
    "\n",
    "First we define the ring the ideal will sit in."
   ]
  },
  {
   "cell_type": "code",
   "execution_count": null,
   "id": "6ced3ce2-6e2a-41b4-9a36-fe4bd17fbc53",
   "metadata": {},
   "outputs": [],
   "source": [
    "R = ZZ/32003[a..d]"
   ]
  },
  {
   "cell_type": "code",
   "execution_count": null,
   "id": "3cca9c81-0949-4ec5-8d92-a1adb5ae0ccf",
   "metadata": {},
   "outputs": [],
   "source": [
    "I = ideal(a*d-b*c, a*c-b^2, b*d-c^2)"
   ]
  },
  {
   "cell_type": "markdown",
   "id": "37854c44-a7b5-4339-8cb9-56ef823c02e8",
   "metadata": {},
   "source": [
    "Let's compute the dimension, codimension (these two should add to 4, the number of variables), and the degree  \n",
    "(this is geometrically the number of points of a general linear section of the zero set of complementary\n",
    "dimension."
   ]
  },
  {
   "cell_type": "code",
   "execution_count": null,
   "id": "eea47ca1-7d90-404b-a6ce-306ea214adbc",
   "metadata": {},
   "outputs": [],
   "source": [
    "dim I"
   ]
  },
  {
   "cell_type": "code",
   "execution_count": null,
   "id": "bef393b9-5789-4e71-a4a8-a912e1944e4c",
   "metadata": {},
   "outputs": [],
   "source": [
    "codim I"
   ]
  },
  {
   "cell_type": "code",
   "execution_count": null,
   "id": "43bf453e-f7c6-47a2-bd75-3916845d5844",
   "metadata": {},
   "outputs": [],
   "source": [
    "degree I"
   ]
  },
  {
   "cell_type": "markdown",
   "id": "7bad6ef9-951c-48f7-8221-430ca3b426d1",
   "metadata": {},
   "source": [
    "The hilbert function `hilbertFunction(d, I)` is the dimension over the base field of the quotient vector space\n",
    "$(R/I)_3$."
   ]
  },
  {
   "cell_type": "code",
   "execution_count": null,
   "id": "839e88b6-f126-4456-a009-fe5dedd730c2",
   "metadata": {},
   "outputs": [],
   "source": [
    "hilbertFunction(3, I)"
   ]
  },
  {
   "cell_type": "markdown",
   "id": "651ce10b-9dd2-4c4a-b83d-afdc817ed30d",
   "metadata": {},
   "source": [
    "The Hilbert series of $I$ (really, of the $R$-module $R/I$) is the formal sum\n",
    "$$H_{R/I}(t) := \\sum_{i=0}^\\infty \\dim (R/I)_d t^d.$$\n",
    "\n",
    "Hilbert invented the notion of the finite free resolution of an idea;/module, to prove that this is a rational function in $t$."
   ]
  },
  {
   "cell_type": "code",
   "execution_count": null,
   "id": "5a284d30-ee46-4221-aed4-3755e0d8e83f",
   "metadata": {},
   "outputs": [],
   "source": [
    "hilbertSeries I"
   ]
  },
  {
   "cell_type": "markdown",
   "id": "fa61d3c2-8172-4f69-8824-b445a23f5f6f",
   "metadata": {},
   "source": [
    "Hilbert also proved that if one divides by $1-t$ as much as possible, one obtains a power series $\\frac{Q(t)}{(1-t)^m}$, \n",
    "where $Q$ is a polynomial with integer coefficients with $Q(1) \\ne 0$, and $m = \\dim R/I$ (this is one more that the dimension of the zero set of $I$\n",
    "as a subvariety of projective space.\n",
    "\n",
    "`reduceHilbert` does this division: it divides by $(1-t)$ as many times as possible."
   ]
  },
  {
   "cell_type": "code",
   "execution_count": null,
   "id": "2c273028-825e-4d54-aa67-2c4be67861e9",
   "metadata": {},
   "outputs": [],
   "source": [
    "reduceHilbert oo"
   ]
  },
  {
   "cell_type": "markdown",
   "id": "8fa6f185-1fbd-4dac-b711-ffa41bd6f110",
   "metadata": {},
   "source": [
    "Thus, $\\dim R/I = 2$, and $V(I) \\subset \\mathbb{P}^3$ is a curve.  Hilbert also proved from the above results\n",
    "that `hilbertFunction(d, I)`, for $d \\gg 0$ is a polynomial of degree $d-1$, now called the **Hilbert polynomial**.\n"
   ]
  },
  {
   "cell_type": "code",
   "execution_count": null,
   "id": "6a2a608d-09d4-48f6-a637-a545df515652",
   "metadata": {},
   "outputs": [],
   "source": [
    "hilbertPolynomial(I, Projective => false)"
   ]
  },
  {
   "cell_type": "markdown",
   "id": "afb6e5a5-48ad-4ac8-ae4f-a534487893b5",
   "metadata": {},
   "source": [
    "In many ways, the minimal free resolution (unique up to isomorphism, i.e. change of bases) is the most\n",
    "important invariant of an ideal or module."
   ]
  },
  {
   "cell_type": "code",
   "execution_count": null,
   "id": "1bd53fef-1a2e-47a9-b36c-05adecff2211",
   "metadata": {},
   "outputs": [],
   "source": [
    "F = res I"
   ]
  },
  {
   "cell_type": "code",
   "execution_count": null,
   "id": "ffb7d139-eb1a-46e1-a725-8408b8a0bd59",
   "metadata": {},
   "outputs": [],
   "source": [
    "F.dd"
   ]
  },
  {
   "cell_type": "markdown",
   "id": "e4b1dc67-44ce-431e-b407-7e72f82d99ff",
   "metadata": {},
   "source": [
    "The degrees in the matrices in the free resolution are homogeneous (if $I$ is).  For instance,\n",
    "the first matrix has three generators of degree 2, and two first syzygies of degree 3.\n",
    "\n",
    "*exercise*.  Look up the documentation and make sure you understand what the `betti` function displays.|"
   ]
  },
  {
   "cell_type": "code",
   "execution_count": null,
   "id": "a744a657-b344-4c1e-bd98-18a959fc6659",
   "metadata": {},
   "outputs": [],
   "source": [
    "betti F"
   ]
  },
  {
   "cell_type": "markdown",
   "id": "555c7b1b-9124-4985-9c08-e216f832d4e5",
   "metadata": {},
   "source": [
    "# Ideals, matrices, lists, and complexes"
   ]
  },
  {
   "cell_type": "code",
   "execution_count": null,
   "id": "238ac11e-08fc-40ba-af80-60238e8cef1c",
   "metadata": {},
   "outputs": [],
   "source": []
  },
  {
   "cell_type": "code",
   "execution_count": null,
   "id": "5b784b8c-8f21-4591-bcec-958f42c21e9a",
   "metadata": {},
   "outputs": [],
   "source": []
  },
  {
   "cell_type": "code",
   "execution_count": null,
   "id": "1ebd53ed-732e-4095-84e6-d401025c81c5",
   "metadata": {},
   "outputs": [],
   "source": []
  }
 ],
 "metadata": {
  "kernelspec": {
   "display_name": "M2",
   "language": "Macaulay2",
   "name": "m2"
  },
  "language_info": {
   "codemirror_mode": "macaulay2",
   "file_extension": ".m2",
   "mimetype": "text/x-macaulay2",
   "name": "Macaulay2"
  }
 },
 "nbformat": 4,
 "nbformat_minor": 5
}

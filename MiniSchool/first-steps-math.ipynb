{
 "cells": [
  {
   "cell_type": "markdown",
   "id": "899dfaa4-c5cc-4486-9fc4-9d2515b8eae2",
   "metadata": {},
   "source": [
    "In this session we will use Macaulay2 to investigate some behavior of a class of ideals."
   ]
  },
  {
   "cell_type": "markdown",
   "id": "2f153624-4e40-4155-8b04-601a69426dab",
   "metadata": {},
   "source": [
    "# First steps: a homogeneous example ideal\n",
    "\n",
    "Let's first take a homogeneous ideal and get the most common information about it.\n",
    "\n",
    "Here we do this with the first key example in algebraic geometry: the ideal of the twised cubic curve!  \n",
    "\n",
    "First we define the ring the ideal will sit in."
   ]
  },
  {
   "cell_type": "code",
   "execution_count": null,
   "id": "6ced3ce2-6e2a-41b4-9a36-fe4bd17fbc53",
   "metadata": {},
   "outputs": [],
   "source": [
    "R = ZZ/32003[a..d]"
   ]
  },
  {
   "cell_type": "code",
   "execution_count": null,
   "id": "3cca9c81-0949-4ec5-8d92-a1adb5ae0ccf",
   "metadata": {},
   "outputs": [],
   "source": [
    "I = ideal(a*d-b*c, a*c-b^2, b*d-c^2)"
   ]
  },
  {
   "cell_type": "markdown",
   "id": "37854c44-a7b5-4339-8cb9-56ef823c02e8",
   "metadata": {},
   "source": [
    "Let's compute the dimension, codimension (these two should add to 4, the number of variables), and the degree  \n",
    "(this is geometrically the number of points of a general linear section of the zero set of complementary\n",
    "dimension."
   ]
  },
  {
   "cell_type": "code",
   "execution_count": null,
   "id": "eea47ca1-7d90-404b-a6ce-306ea214adbc",
   "metadata": {},
   "outputs": [],
   "source": [
    "dim I"
   ]
  },
  {
   "cell_type": "code",
   "execution_count": null,
   "id": "bef393b9-5789-4e71-a4a8-a912e1944e4c",
   "metadata": {},
   "outputs": [],
   "source": [
    "codim I"
   ]
  },
  {
   "cell_type": "code",
   "execution_count": null,
   "id": "43bf453e-f7c6-47a2-bd75-3916845d5844",
   "metadata": {},
   "outputs": [],
   "source": [
    "degree I"
   ]
  },
  {
   "cell_type": "markdown",
   "id": "7bad6ef9-951c-48f7-8221-430ca3b426d1",
   "metadata": {},
   "source": [
    "The hilbert function `hilbertFunction(d, I)` is the dimension over the base field of the quotient vector space\n",
    "$(R/I)_3$."
   ]
  },
  {
   "cell_type": "code",
   "execution_count": null,
   "id": "839e88b6-f126-4456-a009-fe5dedd730c2",
   "metadata": {},
   "outputs": [],
   "source": [
    "hilbertFunction(3, I)"
   ]
  },
  {
   "cell_type": "markdown",
   "id": "651ce10b-9dd2-4c4a-b83d-afdc817ed30d",
   "metadata": {},
   "source": [
    "The Hilbert series of $I$ (really, of the $R$-module $R/I$) is the formal sum\n",
    "$$H_{R/I}(t) := \\sum_{i=0}^\\infty \\dim (R/I)_d t^d.$$\n",
    "\n",
    "Hilbert invented the notion of the finite free resolution of an idea;/module, to prove that this is a rational function in $t$."
   ]
  },
  {
   "cell_type": "code",
   "execution_count": null,
   "id": "5a284d30-ee46-4221-aed4-3755e0d8e83f",
   "metadata": {},
   "outputs": [],
   "source": [
    "hilbertSeries I"
   ]
  },
  {
   "cell_type": "markdown",
   "id": "fa61d3c2-8172-4f69-8824-b445a23f5f6f",
   "metadata": {},
   "source": [
    "Hilbert also proved that if one divides by $1-t$ as much as possible, one obtains a power series $\\frac{Q(t)}{(1-t)^m}$, \n",
    "where $Q$ is a polynomial with integer coefficients with $Q(1) \\ne 0$, and $m = \\dim R/I$ (this is one more that the dimension of the zero set of $I$\n",
    "as a subvariety of projective space.\n",
    "\n",
    "`reduceHilbert` does this division: it divides by $(1-t)$ as many times as possible."
   ]
  },
  {
   "cell_type": "code",
   "execution_count": null,
   "id": "2c273028-825e-4d54-aa67-2c4be67861e9",
   "metadata": {},
   "outputs": [],
   "source": [
    "reduceHilbert oo"
   ]
  },
  {
   "cell_type": "markdown",
   "id": "8fa6f185-1fbd-4dac-b711-ffa41bd6f110",
   "metadata": {},
   "source": [
    "Thus, $\\dim R/I = 2$, and $V(I) \\subset \\mathbb{P}^3$ is a curve.  Hilbert also proved from the above results\n",
    "that `hilbertFunction(d, I)`, for $d \\gg 0$ is a polynomial of degree $d-1$, now called the **Hilbert polynomial**.\n"
   ]
  },
  {
   "cell_type": "code",
   "execution_count": null,
   "id": "6a2a608d-09d4-48f6-a637-a545df515652",
   "metadata": {},
   "outputs": [],
   "source": [
    "hilbertPolynomial(I, Projective => false)"
   ]
  },
  {
   "cell_type": "markdown",
   "id": "afb6e5a5-48ad-4ac8-ae4f-a534487893b5",
   "metadata": {},
   "source": [
    "In many ways, the minimal free resolution (unique up to isomorphism, i.e. change of bases) is the most\n",
    "important invariant of an ideal or module."
   ]
  },
  {
   "cell_type": "code",
   "execution_count": null,
   "id": "1bd53fef-1a2e-47a9-b36c-05adecff2211",
   "metadata": {},
   "outputs": [],
   "source": [
    "F = res I"
   ]
  },
  {
   "cell_type": "code",
   "execution_count": null,
   "id": "ffb7d139-eb1a-46e1-a725-8408b8a0bd59",
   "metadata": {},
   "outputs": [],
   "source": [
    "F.dd"
   ]
  },
  {
   "cell_type": "markdown",
   "id": "e4b1dc67-44ce-431e-b407-7e72f82d99ff",
   "metadata": {},
   "source": [
    "The degrees in the matrices in the free resolution are homogeneous (if $I$ is).  For instance,\n",
    "the first matrix has three generators of degree 2, and two first syzygies of degree 3.\n",
    "\n",
    "*exercise*.  Look up the documentation and make sure you understand what the `betti` function displays.|"
   ]
  },
  {
   "cell_type": "code",
   "execution_count": null,
   "id": "a744a657-b344-4c1e-bd98-18a959fc6659",
   "metadata": {},
   "outputs": [],
   "source": [
    "betti F"
   ]
  },
  {
   "cell_type": "markdown",
   "id": "555c7b1b-9124-4985-9c08-e216f832d4e5",
   "metadata": {},
   "source": [
    "# Ideals, matrices, lists, and complexes\n",
    "\n",
    "You have seen lists, and above we have created ideals and complexes.  It is nice to be able to\n",
    "switch from one type to another.\n",
    "\n",
    "For example, we start with the ideal $I$ above.  How do we access the polynomials in it?  By indexing, using the underscore operator.\n",
    "**Important Note!** All indexing for Macaulay2 (including indexing into lists, and matrices) is zero based!"
   ]
  },
  {
   "cell_type": "code",
   "execution_count": null,
   "id": "238ac11e-08fc-40ba-af80-60238e8cef1c",
   "metadata": {},
   "outputs": [],
   "source": [
    "R = ZZ/32003[a..d]\n",
    "I = ideal(a*d-b*c, a*c-b^2, b*d-c^2)"
   ]
  },
  {
   "cell_type": "code",
   "execution_count": null,
   "id": "5b784b8c-8f21-4591-bcec-958f42c21e9a",
   "metadata": {},
   "outputs": [],
   "source": [
    "I_0"
   ]
  },
  {
   "cell_type": "code",
   "execution_count": null,
   "id": "1ebd53ed-732e-4095-84e6-d401025c81c5",
   "metadata": {},
   "outputs": [],
   "source": [
    "numgens I"
   ]
  },
  {
   "cell_type": "code",
   "execution_count": null,
   "id": "3991cf24-a26e-4d10-b1a1-529e26a78c7f",
   "metadata": {},
   "outputs": [],
   "source": [
    "for i from 0 to numgens I - 1 list I_i"
   ]
  },
  {
   "cell_type": "markdown",
   "id": "4eed90d6-e0bd-48b8-b6c9-e039de662aa7",
   "metadata": {},
   "source": [
    "This is so common, here is a faster way to do it:"
   ]
  },
  {
   "cell_type": "code",
   "execution_count": null,
   "id": "6a83dea9-55b2-4895-99b0-b6450c947087",
   "metadata": {},
   "outputs": [],
   "source": [
    "I_*"
   ]
  },
  {
   "cell_type": "markdown",
   "id": "feecaed3-ab33-4a9d-af39-688dd3c7a612",
   "metadata": {},
   "source": [
    "Going back and forth from lists (of polynomials, all in the same ring) to ideals is pretty easy:"
   ]
  },
  {
   "cell_type": "code",
   "execution_count": null,
   "id": "82067840-ac92-4046-a6ad-11d559d9c565",
   "metadata": {},
   "outputs": [],
   "source": [
    "L = I_*"
   ]
  },
  {
   "cell_type": "code",
   "execution_count": null,
   "id": "2fbfe032-707e-469a-8f9d-4e308e746ec9",
   "metadata": {},
   "outputs": [],
   "source": [
    "ideal L == I"
   ]
  },
  {
   "cell_type": "code",
   "execution_count": null,
   "id": "ac510e50-b6e9-474b-b1ef-026859983b26",
   "metadata": {},
   "outputs": [],
   "source": [
    "ideal{a,b,c,d^3-1}"
   ]
  },
  {
   "cell_type": "markdown",
   "id": "f9dc8bd0-fb4f-4b03-8e43-dd30c8148ffe",
   "metadata": {},
   "source": [
    "The matrix of generators of an ideal: (one can also use `gens I`).  Remember that if a function takes one argument\n",
    "it is not necessary to put parentheses around it."
   ]
  },
  {
   "cell_type": "code",
   "execution_count": null,
   "id": "26d75ab8-feaf-49f1-95b4-cc507f2847b9",
   "metadata": {},
   "outputs": [],
   "source": [
    "generators I"
   ]
  },
  {
   "cell_type": "markdown",
   "id": "34c194df-5da6-464a-8bbe-c64adf49cd7b",
   "metadata": {},
   "source": [
    "A matrix has a bunch of information in it (the source and target modules, here they are free modules, \n",
    "degree information, and of course the entries in the matrix.  \n",
    "\n",
    "Here are some basic things you can do with a matrix."
   ]
  },
  {
   "cell_type": "code",
   "execution_count": null,
   "id": "29adbc54-a56e-44b4-9a32-35ccc96b4f1d",
   "metadata": {},
   "outputs": [],
   "source": [
    "R = QQ[a..i]"
   ]
  },
  {
   "cell_type": "code",
   "execution_count": null,
   "id": "7f063d24-56e2-45a4-a89d-c58c42056032",
   "metadata": {},
   "outputs": [],
   "source": [
    "m = matrix{{a,b,c}, {d,e,f}, {g,h,i}}"
   ]
  },
  {
   "cell_type": "code",
   "execution_count": null,
   "id": "4d20b3f7-dfb7-4625-ba35-29eb25047a7e",
   "metadata": {},
   "outputs": [],
   "source": [
    "numColumns m"
   ]
  },
  {
   "cell_type": "code",
   "execution_count": null,
   "id": "7b86bbaa-6c64-46be-b1f6-644f206e77d2",
   "metadata": {},
   "outputs": [],
   "source": [
    "numcols m"
   ]
  },
  {
   "cell_type": "code",
   "execution_count": null,
   "id": "d928bac7-a2c8-4ef0-a0ca-2b119820ea56",
   "metadata": {},
   "outputs": [],
   "source": [
    "numRows m"
   ]
  },
  {
   "cell_type": "code",
   "execution_count": null,
   "id": "8bd1a9e6-571b-4f55-aa7d-f348f5438de6",
   "metadata": {},
   "outputs": [],
   "source": [
    "numrows m"
   ]
  },
  {
   "cell_type": "code",
   "execution_count": null,
   "id": "3728600a-55fa-437e-964c-d6ae34845d7d",
   "metadata": {},
   "outputs": [],
   "source": [
    "m_(0,0)"
   ]
  },
  {
   "cell_type": "code",
   "execution_count": null,
   "id": "d614638e-2c97-41d4-af04-6b97c6234887",
   "metadata": {},
   "outputs": [],
   "source": [
    "m_(1,3)"
   ]
  },
  {
   "cell_type": "code",
   "execution_count": null,
   "id": "00254a45-dfc4-4aa7-9f8b-5dce537e9015",
   "metadata": {},
   "outputs": [],
   "source": [
    "entries m"
   ]
  },
  {
   "cell_type": "code",
   "execution_count": null,
   "id": "ba2e6f99-7a23-4183-a872-5f5e2143f70d",
   "metadata": {},
   "outputs": [],
   "source": [
    "flatten entries m"
   ]
  },
  {
   "cell_type": "code",
   "execution_count": null,
   "id": "cc5e0271-1c4a-4a4d-a862-c02f86b69056",
   "metadata": {},
   "outputs": [],
   "source": [
    "ideal m "
   ]
  },
  {
   "cell_type": "code",
   "execution_count": null,
   "id": "4b1bfd5b-3241-47d0-a853-9bd3a714bc04",
   "metadata": {},
   "outputs": [],
   "source": [
    "ideal m == ideal flatten entries m"
   ]
  },
  {
   "cell_type": "markdown",
   "id": "bd28b304-b047-4d78-afbc-b5f32e0ab217",
   "metadata": {},
   "source": [
    "We can make modules out of matrices too."
   ]
  },
  {
   "cell_type": "code",
   "execution_count": null,
   "id": "5c4bb5a7-14e2-4ab2-945f-87687627ecd0",
   "metadata": {},
   "outputs": [],
   "source": [
    "image m"
   ]
  },
  {
   "cell_type": "code",
   "execution_count": null,
   "id": "4f3f04e4-7342-4d48-951f-df53676b28b4",
   "metadata": {},
   "outputs": [],
   "source": [
    "coker m"
   ]
  },
  {
   "cell_type": "code",
   "execution_count": null,
   "id": "f0027e1f-41c2-4c18-8472-e3c0d0ea9fd9",
   "metadata": {},
   "outputs": [],
   "source": [
    "kernel m"
   ]
  },
  {
   "cell_type": "markdown",
   "id": "afdb8615-f1f6-44ca-acc8-10011da5db48",
   "metadata": {},
   "source": [
    "# First exploration"
   ]
  },
  {
   "cell_type": "markdown",
   "id": "4fd38324-2fab-4efc-b386-588684abc4ca",
   "metadata": {},
   "source": [
    "One cool way to generate interesting ideals is to use Macaulay's inverse systems.  \n",
    "Let $F \\in R = \\mathbb{k}[x_1, \\ldots, x_n]$ be a homogeneous polynomial (one can define this \n",
    "in the local ring case as well, but let's just do the homogeneous case for now).  Define\n",
    "an ideal, $F^\\perp \\subset R$ to be \n",
    "$$F^\\perp := \\{ g \\in R \\mid g(\\partial_1, \\ldots, \\partial_n)(F) = 0 \\},$$\n",
    "where $\\partial_i$ is differentiation by $x_i$."
   ]
  },
  {
   "cell_type": "code",
   "execution_count": null,
   "id": "a92d9610-2054-4e37-835d-773d97c5da86",
   "metadata": {},
   "outputs": [],
   "source": [
    "R = ZZ/32003[a..d]"
   ]
  },
  {
   "cell_type": "code",
   "execution_count": null,
   "id": "412dd188-83d5-411a-b9a7-4f858fe26c46",
   "metadata": {},
   "outputs": [],
   "source": [
    "F = a^3 + b^3 + c^3 + d^3"
   ]
  },
  {
   "cell_type": "code",
   "execution_count": null,
   "id": "ef12d6ff-1aee-4148-8af9-33c9c748653b",
   "metadata": {},
   "outputs": [],
   "source": [
    "I = inverseSystem F"
   ]
  },
  {
   "cell_type": "code",
   "execution_count": null,
   "id": "ce0f29d4-9659-4339-9d3e-a7807c3e2858",
   "metadata": {},
   "outputs": [],
   "source": [
    "dim I, codim I, degree I"
   ]
  },
  {
   "cell_type": "code",
   "execution_count": null,
   "id": "68d146b2-1a92-4cb3-9dd8-0c2ac7aeac24",
   "metadata": {},
   "outputs": [],
   "source": [
    "C = res I"
   ]
  },
  {
   "cell_type": "code",
   "execution_count": null,
   "id": "fc5f437d-5f21-4b1a-975f-a306536865cc",
   "metadata": {},
   "outputs": [],
   "source": [
    "betti C"
   ]
  },
  {
   "cell_type": "markdown",
   "id": "1c3213fc-56cd-4cb9-a4cf-0fd8b8e9d859",
   "metadata": {},
   "source": [
    "Macaulay proved that such ideals $F^\\perp$ are Artinian and Gorenstein.  Here Artinian\n",
    "means that in high enough degrees $d$, $(R/I)_d = 0$.  Gorenstein for Artinian ideals is equivalent\n",
    "to the condition that the last non-zero free module in the minimal free resolution of $R/I$ is rank one."
   ]
  },
  {
   "cell_type": "markdown",
   "id": "9a8227ab-cdf4-44ee-bf5a-252464f32cb2",
   "metadata": {},
   "source": [
    "We want to investigate: suppose we fix the number of variables $n$, and the degree $d$ of $F$.  What are\n",
    "the possible Betti tables that we can find?"
   ]
  },
  {
   "cell_type": "markdown",
   "id": "bedd1ad2-1980-48e6-a258-f9291a0b5d59",
   "metadata": {},
   "source": [
    "Let's try: all $F$ which are equal to a monomial."
   ]
  },
  {
   "cell_type": "code",
   "execution_count": null,
   "id": "357d2c4d-333e-4257-b463-639e660ad77f",
   "metadata": {},
   "outputs": [],
   "source": [
    "B = flatten entries basis(3, R)"
   ]
  },
  {
   "cell_type": "code",
   "execution_count": null,
   "id": "db6ef964-4fc5-4c34-ad2b-3564614d5659",
   "metadata": {},
   "outputs": [],
   "source": [
    "for b in B list inverseSystem ideal b"
   ]
  },
  {
   "cell_type": "code",
   "execution_count": null,
   "id": "b5617ec2-f27d-4bed-afbe-de98515e5c2a",
   "metadata": {},
   "outputs": [],
   "source": [
    "for b in B list betti res inverseSystem ideal b"
   ]
  },
  {
   "cell_type": "code",
   "execution_count": null,
   "id": "67fc5337-9e4d-4cd3-a831-a299e0358537",
   "metadata": {},
   "outputs": [],
   "source": [
    "tally oo"
   ]
  },
  {
   "cell_type": "code",
   "execution_count": null,
   "id": "9cb6d898-1b34-44d2-b6f6-42c3ef9b1c3f",
   "metadata": {},
   "outputs": [],
   "source": [
    "apply(100, i -> betti res inverseSystem ideal random(3, R))"
   ]
  },
  {
   "cell_type": "code",
   "execution_count": null,
   "id": "bbdb6d21-02e5-45b9-a157-690ce2c1bd96",
   "metadata": {},
   "outputs": [],
   "source": [
    "tally oo"
   ]
  },
  {
   "cell_type": "markdown",
   "id": "ae4529cd-a99e-4dc8-a809-bf2a2f8bafcd",
   "metadata": {},
   "source": [
    "What else should we try?  So far we have 4 different such ideals.\n",
    "\n",
    "How about $F$ is the sum of two monomials? three?  four?  What other suggestions to you have to try?"
   ]
  },
  {
   "cell_type": "code",
   "execution_count": null,
   "id": "91428fa3-d3bb-47f7-a3fd-a5ee8d7613d5",
   "metadata": {},
   "outputs": [],
   "source": [
    "for x in subsets(B, 2) list betti res inverseSystem (sum x)"
   ]
  },
  {
   "cell_type": "code",
   "execution_count": null,
   "id": "29bf277a-6a02-405d-bfc9-23dda1f56869",
   "metadata": {},
   "outputs": [],
   "source": [
    "tally oo"
   ]
  },
  {
   "cell_type": "code",
   "execution_count": null,
   "id": "584f4fbe-d9be-46a0-8d14-5080ac46e940",
   "metadata": {},
   "outputs": [],
   "source": [
    "tally for x in subsets(B, 2) list betti res inverseSystem (sum x)"
   ]
  },
  {
   "cell_type": "code",
   "execution_count": null,
   "id": "25b62ecd-d677-4d6b-9ca7-1313e4334c88",
   "metadata": {},
   "outputs": [],
   "source": [
    "netList pack(4, keys oo)"
   ]
  },
  {
   "cell_type": "code",
   "execution_count": null,
   "id": "380b7374-6522-4f69-a659-168b3ee786e0",
   "metadata": {},
   "outputs": [],
   "source": [
    "tally for x in subsets(B, 3) list betti res inverseSystem (sum x)"
   ]
  },
  {
   "cell_type": "code",
   "execution_count": null,
   "id": "c9981d7b-e41c-47cf-a5e5-1958d701f3be",
   "metadata": {},
   "outputs": [],
   "source": [
    "netList pack(keys oo, 4)"
   ]
  },
  {
   "cell_type": "code",
   "execution_count": null,
   "id": "5d5b2557-a862-4243-af1a-362ff881947f",
   "metadata": {},
   "outputs": [],
   "source": [
    "o46"
   ]
  },
  {
   "cell_type": "code",
   "execution_count": null,
   "id": "8c7a6088-59dc-430a-9b29-926c53f31c21",
   "metadata": {},
   "outputs": [],
   "source": [
    "#B"
   ]
  },
  {
   "cell_type": "code",
   "execution_count": null,
   "id": "29ee059c-f5bc-4958-869b-91be8b862925",
   "metadata": {},
   "outputs": [],
   "source": [
    "tally for x in subsets(B, 4) list betti res inverseSystem (sum x)"
   ]
  },
  {
   "cell_type": "code",
   "execution_count": null,
   "id": "c594e1b5-0faa-47c5-97a6-936bdea9f05b",
   "metadata": {},
   "outputs": [],
   "source": [
    "--%timeout=360000"
   ]
  },
  {
   "cell_type": "code",
   "execution_count": null,
   "id": "0c817b90-7f8f-45de-b133-0806f0c64652",
   "metadata": {},
   "outputs": [],
   "source": [
    "tally for x in subsets(B, 4) list betti res inverseSystem (sum x)"
   ]
  },
  {
   "cell_type": "code",
   "execution_count": null,
   "id": "24d30923-dcf6-4e44-b294-551b2d4a8436",
   "metadata": {},
   "outputs": [],
   "source": [
    "pack(keys oo, 4)"
   ]
  },
  {
   "cell_type": "code",
   "execution_count": null,
   "id": "d67d8281-330b-48c1-855a-290f08834571",
   "metadata": {},
   "outputs": [],
   "source": [
    "randomPolySum = (R, d, m) -> (\n",
    "    -- R is a polynomial ring\n",
    "    -- d is an integer, the degree, should be >= 1.\n",
    "    -- m is an integer: the number of d-th power random linear forms to take\n",
    "    linears := for i from 0 to m-1 list random(1, R);\n",
    "    linears\n",
    "    )\n",
    "\n",
    "netList randomPolySum(R, 3, 6)"
   ]
  },
  {
   "cell_type": "code",
   "execution_count": null,
   "id": "95b21450-34f9-4fd6-8fcd-f8911b92f70b",
   "metadata": {},
   "outputs": [],
   "source": [
    "randomPolySum = (R, d, m) -> (\n",
    "    -- R is a polynomial ring\n",
    "    -- d is an integer, the degree, should be >= 1.\n",
    "    -- m is an integer: the number of d-th power random linear forms to take\n",
    "    linears := for i from 0 to m-1 list random(1, R);\n",
    "    sum for g in linears list g^d\n",
    "    )\n",
    "\n",
    "randomPolySum(R, 3, 6)"
   ]
  },
  {
   "cell_type": "code",
   "execution_count": null,
   "id": "805cad50-0167-46b6-aba8-4f95d85fe713",
   "metadata": {},
   "outputs": [],
   "source": [
    "betti res inverseSystem oo\n"
   ]
  },
  {
   "cell_type": "code",
   "execution_count": null,
   "id": "af18a43d-37a3-4d68-bfd3-df5c8cee1079",
   "metadata": {},
   "outputs": [],
   "source": [
    "tally toList apply(100, i -> betti res inverseSystem randomPolySum(R, 3, 6))"
   ]
  },
  {
   "cell_type": "code",
   "execution_count": null,
   "id": "63366a9e-ddd7-4076-8b08-848cb5f001ca",
   "metadata": {},
   "outputs": [],
   "source": [
    "tally toList apply(1000, i -> betti res inverseSystem randomPolySum(R, 3, 6))"
   ]
  },
  {
   "cell_type": "code",
   "execution_count": null,
   "id": "ec4ac0ef-9b8d-4546-b633-b4978c9a7ffd",
   "metadata": {},
   "outputs": [],
   "source": [
    "tally toList apply(100, i -> betti res inverseSystem randomPolySum(R, 3, 5))"
   ]
  },
  {
   "cell_type": "code",
   "execution_count": null,
   "id": "1c4e71c3-0bbd-4664-b6a8-922204fca3b3",
   "metadata": {},
   "outputs": [],
   "source": [
    "tally toList apply(100, i -> betti res inverseSystem randomPolySum(R, 3, 4))"
   ]
  },
  {
   "cell_type": "code",
   "execution_count": null,
   "id": "f1b3068b-69c7-4fa2-8af4-c52ea6767f54",
   "metadata": {},
   "outputs": [],
   "source": [
    "tally toList apply(100, i -> betti res inverseSystem randomPolySum(R, 3, 3))"
   ]
  },
  {
   "cell_type": "markdown",
   "id": "2751fc18-107d-4212-8a8b-869e4fd458d8",
   "metadata": {},
   "source": [
    "How can we make our life easier in collecting examples?  One way: keep a mutable hash table\n",
    "of all of the examples we have found, only add to it if we have a new one.\n",
    "\n",
    "Here is one way to do this."
   ]
  },
  {
   "cell_type": "code",
   "execution_count": null,
   "id": "fa6ca063-398d-4b3d-9d88-6bf76469b195",
   "metadata": {},
   "outputs": [],
   "source": [
    "allOurBettis = new MutableHashTable"
   ]
  },
  {
   "cell_type": "code",
   "execution_count": null,
   "id": "55bd0b90-abbf-4217-bfb7-2e9659baa679",
   "metadata": {},
   "outputs": [],
   "source": [
    "handleExample = (F) -> (\n",
    "    bt := betti res inverseSystem F;\n",
    "    if not allOurBettis#?bt then (\n",
    "        allOurBettis#bt = F;\n",
    "        << \"found new betti table: \" << bt << endl;\n",
    "        );\n",
    "    )"
   ]
  },
  {
   "cell_type": "code",
   "execution_count": null,
   "id": "54736f80-723e-42e0-bf70-2c3eb7bdbee5",
   "metadata": {},
   "outputs": [],
   "source": [
    "R = ZZ/32003[a..d]"
   ]
  },
  {
   "cell_type": "code",
   "execution_count": null,
   "id": "f1bbc6da-eac0-4e0d-a830-b5ac8afd446c",
   "metadata": {},
   "outputs": [],
   "source": [
    "scan(1000, i -> handleExample randomPolySum(R, 3, 4))"
   ]
  },
  {
   "cell_type": "code",
   "execution_count": null,
   "id": "feae435a-0091-4718-bbd7-0124b116f2ee",
   "metadata": {},
   "outputs": [],
   "source": [
    "peek allOurBettis"
   ]
  },
  {
   "cell_type": "code",
   "execution_count": null,
   "id": "acccabf4-2622-4bd9-9d42-40f5be221636",
   "metadata": {},
   "outputs": [],
   "source": [
    "scan(1000, i -> handleExample randomPolySum(R, 3, 5))"
   ]
  },
  {
   "cell_type": "code",
   "execution_count": null,
   "id": "3c8c67e8-c665-4103-bfea-8b4e347e8244",
   "metadata": {},
   "outputs": [],
   "source": [
    "scan(1000, i -> handleExample randomPolySum(R, 3, 4))"
   ]
  },
  {
   "cell_type": "code",
   "execution_count": null,
   "id": "29642f52-2593-4a97-a0e2-249767d185d4",
   "metadata": {},
   "outputs": [],
   "source": [
    "scan(1000, i -> handleExample randomPolySum(R, 3, 4))"
   ]
  },
  {
   "cell_type": "code",
   "execution_count": null,
   "id": "0771ea62-4ac4-4433-a0e1-e87707b06b77",
   "metadata": {},
   "outputs": [],
   "source": [
    "scan(1000, i -> handleExample randomPolySum(R, 3, 5))"
   ]
  },
  {
   "cell_type": "code",
   "execution_count": null,
   "id": "0b0b14b5-8d4b-4615-a1e3-a3549e7a2277",
   "metadata": {},
   "outputs": [],
   "source": [
    "scan(1000, i -> handleExample randomPolySum(R, 3, 5))"
   ]
  },
  {
   "cell_type": "code",
   "execution_count": null,
   "id": "3ad05715-3d60-489d-aca0-e113ea3a809e",
   "metadata": {},
   "outputs": [],
   "source": [
    "scan(1000, i -> handleExample randomPolySum(R, 3, 6))"
   ]
  },
  {
   "cell_type": "code",
   "execution_count": null,
   "id": "fe80e272-5743-4279-85e0-a37be8138621",
   "metadata": {},
   "outputs": [],
   "source": [
    "scan(1000, i -> handleExample randomPolySum(R, 3, 6))"
   ]
  },
  {
   "cell_type": "code",
   "execution_count": null,
   "id": "f8eab749-2741-4ec0-a114-377f9b743658",
   "metadata": {},
   "outputs": [],
   "source": [
    "netList pack(keys allOurBettis, 4)"
   ]
  },
  {
   "cell_type": "markdown",
   "id": "e99a8385-3327-4a7b-865c-e60c9b06dfc9",
   "metadata": {},
   "source": [
    "# Exercises\n",
    "\n",
    "- Write a function which takes a Betti table as input and a degree and homological degree (basically the row and column), and returns that Betti number.\n",
    "- Consider ideals minimally generated by 4 quadratic homogeneous polynomials.  How many Betti tables \n",
    "can you find for such ideals?\n",
    "- Consider ideals of the form $F^\\perp$, where $F$ is a homogeneous polynomial in 4 variables, of degree 4.  How many Betti tables can you find?\n",
    "\n",
    "\n"
   ]
  },
  {
   "cell_type": "code",
   "execution_count": null,
   "id": "a6f2f666-9d2f-4bb8-a46c-a190a226b1e9",
   "metadata": {},
   "outputs": [],
   "source": []
  }
 ],
 "metadata": {
  "kernelspec": {
   "display_name": "M2",
   "language": "Macaulay2",
   "name": "m2"
  },
  "language_info": {
   "codemirror_mode": "macaulay2",
   "file_extension": ".m2",
   "mimetype": "text/x-macaulay2",
   "name": "Macaulay2"
  }
 },
 "nbformat": 4,
 "nbformat_minor": 5
}
